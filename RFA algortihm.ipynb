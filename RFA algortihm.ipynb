{
 "cells": [
  {
   "cell_type": "code",
   "execution_count": 1,
   "id": "9347a906",
   "metadata": {
    "id": "9347a906"
   },
   "outputs": [],
   "source": [
    "import pandas as pd\n",
    "import numpy as np\n",
    "import matplotlib.pyplot as plt\n",
    "import seaborn as sns"
   ]
  },
  {
   "cell_type": "code",
   "execution_count": 2,
   "id": "e7871c23",
   "metadata": {
    "id": "e7871c23"
   },
   "outputs": [],
   "source": [
    "movies = \"movies_data.csv\""
   ]
  },
  {
   "cell_type": "code",
   "execution_count": 3,
   "id": "54687df9",
   "metadata": {
    "id": "54687df9"
   },
   "outputs": [],
   "source": [
    "df = pd.read_csv(movies)"
   ]
  },
  {
   "cell_type": "code",
   "execution_count": 4,
   "id": "56d7a7f5",
   "metadata": {
    "id": "56d7a7f5",
    "outputId": "7e187001-fcf1-4616-d8dd-f5776944b3ad"
   },
   "outputs": [
    {
     "data": {
      "text/html": [
       "<div>\n",
       "<style scoped>\n",
       "    .dataframe tbody tr th:only-of-type {\n",
       "        vertical-align: middle;\n",
       "    }\n",
       "\n",
       "    .dataframe tbody tr th {\n",
       "        vertical-align: top;\n",
       "    }\n",
       "\n",
       "    .dataframe thead th {\n",
       "        text-align: right;\n",
       "    }\n",
       "</style>\n",
       "<table border=\"1\" class=\"dataframe\">\n",
       "  <thead>\n",
       "    <tr style=\"text-align: right;\">\n",
       "      <th></th>\n",
       "      <th>Title</th>\n",
       "      <th>Budget</th>\n",
       "      <th>Gross</th>\n",
       "      <th>IMDb Rating</th>\n",
       "      <th>Metascore</th>\n",
       "      <th>Reviews</th>\n",
       "      <th>Likes</th>\n",
       "      <th>Success/Flop</th>\n",
       "    </tr>\n",
       "  </thead>\n",
       "  <tbody>\n",
       "    <tr>\n",
       "      <th>0</th>\n",
       "      <td>Fast X</td>\n",
       "      <td>340000000</td>\n",
       "      <td>676000000</td>\n",
       "      <td>7.349</td>\n",
       "      <td>7.349</td>\n",
       "      <td>1719</td>\n",
       "      <td>11393.514</td>\n",
       "      <td>Success</td>\n",
       "    </tr>\n",
       "    <tr>\n",
       "      <th>1</th>\n",
       "      <td>John Wick: Chapter 4</td>\n",
       "      <td>90000000</td>\n",
       "      <td>431769198</td>\n",
       "      <td>7.906</td>\n",
       "      <td>7.906</td>\n",
       "      <td>3083</td>\n",
       "      <td>3761.669</td>\n",
       "      <td>Success</td>\n",
       "    </tr>\n",
       "    <tr>\n",
       "      <th>2</th>\n",
       "      <td>The Super Mario Bros. Movie</td>\n",
       "      <td>100000000</td>\n",
       "      <td>1308766975</td>\n",
       "      <td>7.808</td>\n",
       "      <td>7.808</td>\n",
       "      <td>4864</td>\n",
       "      <td>3163.738</td>\n",
       "      <td>Success</td>\n",
       "    </tr>\n",
       "    <tr>\n",
       "      <th>3</th>\n",
       "      <td>Spider-Man: Across the Spider-Verse</td>\n",
       "      <td>100000000</td>\n",
       "      <td>494002979</td>\n",
       "      <td>8.700</td>\n",
       "      <td>8.700</td>\n",
       "      <td>1455</td>\n",
       "      <td>2616.839</td>\n",
       "      <td>Success</td>\n",
       "    </tr>\n",
       "    <tr>\n",
       "      <th>4</th>\n",
       "      <td>Transformers: Rise of the Beasts</td>\n",
       "      <td>200000000</td>\n",
       "      <td>227045464</td>\n",
       "      <td>7.275</td>\n",
       "      <td>7.275</td>\n",
       "      <td>329</td>\n",
       "      <td>2097.734</td>\n",
       "      <td>Success</td>\n",
       "    </tr>\n",
       "  </tbody>\n",
       "</table>\n",
       "</div>"
      ],
      "text/plain": [
       "                                 Title     Budget       Gross  IMDb Rating  \\\n",
       "0                               Fast X  340000000   676000000        7.349   \n",
       "1                 John Wick: Chapter 4   90000000   431769198        7.906   \n",
       "2          The Super Mario Bros. Movie  100000000  1308766975        7.808   \n",
       "3  Spider-Man: Across the Spider-Verse  100000000   494002979        8.700   \n",
       "4     Transformers: Rise of the Beasts  200000000   227045464        7.275   \n",
       "\n",
       "   Metascore  Reviews      Likes Success/Flop  \n",
       "0      7.349     1719  11393.514      Success  \n",
       "1      7.906     3083   3761.669      Success  \n",
       "2      7.808     4864   3163.738      Success  \n",
       "3      8.700     1455   2616.839      Success  \n",
       "4      7.275      329   2097.734      Success  "
      ]
     },
     "execution_count": 4,
     "metadata": {},
     "output_type": "execute_result"
    }
   ],
   "source": [
    "df.head()"
   ]
  },
  {
   "cell_type": "code",
   "execution_count": 5,
   "id": "125631f7",
   "metadata": {
    "id": "125631f7",
    "outputId": "71aae9f6-b23f-481d-a900-f353f6d0a2bf"
   },
   "outputs": [
    {
     "data": {
      "text/plain": [
       "(4640, 8)"
      ]
     },
     "execution_count": 5,
     "metadata": {},
     "output_type": "execute_result"
    }
   ],
   "source": [
    "df.shape"
   ]
  },
  {
   "cell_type": "code",
   "execution_count": 6,
   "id": "79e43412",
   "metadata": {
    "id": "79e43412",
    "outputId": "670b3801-ff17-46bb-fe72-196fe2038ad9"
   },
   "outputs": [
    {
     "name": "stdout",
     "output_type": "stream",
     "text": [
      "<class 'pandas.core.frame.DataFrame'>\n",
      "RangeIndex: 4640 entries, 0 to 4639\n",
      "Data columns (total 8 columns):\n",
      " #   Column        Non-Null Count  Dtype  \n",
      "---  ------        --------------  -----  \n",
      " 0   Title         4640 non-null   object \n",
      " 1   Budget        4640 non-null   int64  \n",
      " 2   Gross         4640 non-null   int64  \n",
      " 3   IMDb Rating   4640 non-null   float64\n",
      " 4   Metascore     4640 non-null   float64\n",
      " 5   Reviews       4640 non-null   int64  \n",
      " 6   Likes         4640 non-null   float64\n",
      " 7   Success/Flop  4640 non-null   object \n",
      "dtypes: float64(3), int64(3), object(2)\n",
      "memory usage: 290.1+ KB\n"
     ]
    }
   ],
   "source": [
    "df.info()"
   ]
  },
  {
   "cell_type": "markdown",
   "id": "8d966c0e",
   "metadata": {
    "id": "8d966c0e"
   },
   "source": [
    "## Necessary Data Cleaning"
   ]
  },
  {
   "cell_type": "code",
   "execution_count": 7,
   "id": "b96c52c9",
   "metadata": {
    "id": "b96c52c9"
   },
   "outputs": [],
   "source": [
    "df.drop(labels=[\"Title\",\"Gross\",\"IMDb Rating\",\"Budget\"],axis=1,inplace=True)"
   ]
  },
  {
   "cell_type": "code",
   "execution_count": 8,
   "id": "e1e1ef57",
   "metadata": {
    "id": "e1e1ef57",
    "outputId": "0c189965-0523-4548-8a36-4779f5cab5ed"
   },
   "outputs": [
    {
     "name": "stdout",
     "output_type": "stream",
     "text": [
      "<class 'pandas.core.frame.DataFrame'>\n",
      "RangeIndex: 4640 entries, 0 to 4639\n",
      "Data columns (total 4 columns):\n",
      " #   Column        Non-Null Count  Dtype  \n",
      "---  ------        --------------  -----  \n",
      " 0   Metascore     4640 non-null   float64\n",
      " 1   Reviews       4640 non-null   int64  \n",
      " 2   Likes         4640 non-null   float64\n",
      " 3   Success/Flop  4640 non-null   object \n",
      "dtypes: float64(2), int64(1), object(1)\n",
      "memory usage: 145.1+ KB\n"
     ]
    }
   ],
   "source": [
    "df.info()"
   ]
  },
  {
   "cell_type": "markdown",
   "id": "9fbb62d1",
   "metadata": {
    "id": "9fbb62d1"
   },
   "source": [
    "### Handling Null values and Duplicate Data"
   ]
  },
  {
   "cell_type": "code",
   "execution_count": 9,
   "id": "01a42f10",
   "metadata": {
    "id": "01a42f10"
   },
   "outputs": [],
   "source": [
    "df = df.drop_duplicates()"
   ]
  },
  {
   "cell_type": "code",
   "execution_count": 10,
   "id": "7815a1ae",
   "metadata": {
    "id": "7815a1ae",
    "outputId": "995dc1a6-6e0b-4711-9cdd-50776ea3abb3"
   },
   "outputs": [
    {
     "data": {
      "text/plain": [
       "Metascore       0\n",
       "Reviews         0\n",
       "Likes           0\n",
       "Success/Flop    0\n",
       "dtype: int64"
      ]
     },
     "execution_count": 10,
     "metadata": {},
     "output_type": "execute_result"
    }
   ],
   "source": [
    "df.isnull().sum()"
   ]
  },
  {
   "cell_type": "code",
   "execution_count": 11,
   "id": "284ba749",
   "metadata": {
    "id": "284ba749",
    "outputId": "9a466bd8-19f0-4322-e22d-5cffdf9a5b04"
   },
   "outputs": [
    {
     "name": "stdout",
     "output_type": "stream",
     "text": [
      "Index(['Metascore', 'Reviews', 'Likes'], dtype='object')\n",
      "Numerical Columns : 3\n"
     ]
    }
   ],
   "source": [
    "Numerical_col=df.select_dtypes(include=[\"int64\",\"float64\"])\n",
    "no_of_numerical_col=len(Numerical_col.columns)\n",
    "print(Numerical_col.columns)\n",
    "print(\"Numerical Columns :\",no_of_numerical_col)"
   ]
  },
  {
   "cell_type": "code",
   "execution_count": 12,
   "id": "1e05d229",
   "metadata": {
    "id": "1e05d229"
   },
   "outputs": [],
   "source": [
    "# Replaced median from the numerical columns\n",
    "\n",
    "numerical_columns = df.select_dtypes(include=['float64','int64']).columns\n",
    "df[numerical_columns] = df[numerical_columns].fillna(df[numerical_columns].median())"
   ]
  },
  {
   "cell_type": "code",
   "execution_count": 13,
   "id": "ddce6a1f",
   "metadata": {
    "id": "ddce6a1f",
    "outputId": "dd72a6fa-d1bc-4905-f1f0-acd2c62eb293"
   },
   "outputs": [
    {
     "data": {
      "image/png": "[encoded data removed]",
      "text/plain": [
       "<Figure size 360x360 with 2 Axes>"
      ]
     },
     "metadata": {
      "needs_background": "light"
     },
     "output_type": "display_data"
    }
   ],
   "source": [
    "plt.figure(figsize=(5,5))\n",
    "sns.heatmap(df.isnull())\n",
    "plt.show()"
   ]
  },
  {
   "cell_type": "markdown",
   "id": "fa4415af",
   "metadata": {
    "id": "fa4415af"
   },
   "source": [
    "## Formating data as per requirement"
   ]
  },
  {
   "cell_type": "code",
   "execution_count": 14,
   "id": "bc8c18d9",
   "metadata": {
    "id": "bc8c18d9",
    "outputId": "d4f1bff9-2ee7-467c-cce3-1627df1e8bba"
   },
   "outputs": [
    {
     "name": "stdout",
     "output_type": "stream",
     "text": [
      "<class 'pandas.core.frame.DataFrame'>\n",
      "Int64Index: 4636 entries, 0 to 4639\n",
      "Data columns (total 4 columns):\n",
      " #   Column        Non-Null Count  Dtype  \n",
      "---  ------        --------------  -----  \n",
      " 0   Metascore     4636 non-null   float64\n",
      " 1   Reviews       4636 non-null   int64  \n",
      " 2   Likes         4636 non-null   float64\n",
      " 3   Success/Flop  4636 non-null   object \n",
      "dtypes: float64(2), int64(1), object(1)\n",
      "memory usage: 181.1+ KB\n"
     ]
    }
   ],
   "source": [
    "df.info()"
   ]
  },
  {
   "cell_type": "code",
   "execution_count": 15,
   "id": "a3654943",
   "metadata": {
    "id": "a3654943",
    "outputId": "4ce28a33-55fa-4dbe-c4ff-79db288c493d"
   },
   "outputs": [
    {
     "name": "stdout",
     "output_type": "stream",
     "text": [
      "<class 'pandas.core.frame.DataFrame'>\n",
      "Int64Index: 4636 entries, 0 to 4639\n",
      "Data columns (total 4 columns):\n",
      " #   Column        Non-Null Count  Dtype  \n",
      "---  ------        --------------  -----  \n",
      " 0   Metascore     4636 non-null   float64\n",
      " 1   Reviews       4636 non-null   int64  \n",
      " 2   Likes         4636 non-null   float64\n",
      " 3   Success/Flop  4636 non-null   object \n",
      "dtypes: float64(2), int64(1), object(1)\n",
      "memory usage: 181.1+ KB\n"
     ]
    }
   ],
   "source": [
    "df.info()"
   ]
  },
  {
   "cell_type": "code",
   "execution_count": 16,
   "id": "70f1c979",
   "metadata": {
    "id": "70f1c979",
    "outputId": "747c5612-3a5b-4cb4-e666-2017fa1b13b7"
   },
   "outputs": [
    {
     "data": {
      "text/html": [
       "<div>\n",
       "<style scoped>\n",
       "    .dataframe tbody tr th:only-of-type {\n",
       "        vertical-align: middle;\n",
       "    }\n",
       "\n",
       "    .dataframe tbody tr th {\n",
       "        vertical-align: top;\n",
       "    }\n",
       "\n",
       "    .dataframe thead th {\n",
       "        text-align: right;\n",
       "    }\n",
       "</style>\n",
       "<table border=\"1\" class=\"dataframe\">\n",
       "  <thead>\n",
       "    <tr style=\"text-align: right;\">\n",
       "      <th></th>\n",
       "      <th>Metascore</th>\n",
       "      <th>Reviews</th>\n",
       "      <th>Likes</th>\n",
       "      <th>Success/Flop</th>\n",
       "    </tr>\n",
       "  </thead>\n",
       "  <tbody>\n",
       "    <tr>\n",
       "      <th>0</th>\n",
       "      <td>7.349</td>\n",
       "      <td>1719</td>\n",
       "      <td>11393.514</td>\n",
       "      <td>Success</td>\n",
       "    </tr>\n",
       "    <tr>\n",
       "      <th>1</th>\n",
       "      <td>7.906</td>\n",
       "      <td>3083</td>\n",
       "      <td>3761.669</td>\n",
       "      <td>Success</td>\n",
       "    </tr>\n",
       "    <tr>\n",
       "      <th>2</th>\n",
       "      <td>7.808</td>\n",
       "      <td>4864</td>\n",
       "      <td>3163.738</td>\n",
       "      <td>Success</td>\n",
       "    </tr>\n",
       "    <tr>\n",
       "      <th>3</th>\n",
       "      <td>8.700</td>\n",
       "      <td>1455</td>\n",
       "      <td>2616.839</td>\n",
       "      <td>Success</td>\n",
       "    </tr>\n",
       "    <tr>\n",
       "      <th>4</th>\n",
       "      <td>7.275</td>\n",
       "      <td>329</td>\n",
       "      <td>2097.734</td>\n",
       "      <td>Success</td>\n",
       "    </tr>\n",
       "  </tbody>\n",
       "</table>\n",
       "</div>"
      ],
      "text/plain": [
       "   Metascore  Reviews      Likes Success/Flop\n",
       "0      7.349     1719  11393.514      Success\n",
       "1      7.906     3083   3761.669      Success\n",
       "2      7.808     4864   3163.738      Success\n",
       "3      8.700     1455   2616.839      Success\n",
       "4      7.275      329   2097.734      Success"
      ]
     },
     "execution_count": 16,
     "metadata": {},
     "output_type": "execute_result"
    }
   ],
   "source": [
    "df.head()"
   ]
  },
  {
   "cell_type": "code",
   "execution_count": null,
   "id": "bfa1bbb6",
   "metadata": {
    "id": "bfa1bbb6"
   },
   "outputs": [],
   "source": []
  },
  {
   "cell_type": "markdown",
   "id": "638e6878",
   "metadata": {
    "id": "638e6878"
   },
   "source": [
    "## Budget outlier"
   ]
  },
  {
   "cell_type": "code",
   "execution_count": 17,
   "id": "b060f272",
   "metadata": {
    "id": "b060f272",
    "outputId": "fc5ce7e0-9a70-4d76-d5c3-3077a7a4f1b6"
   },
   "outputs": [
    {
     "data": {
      "image/png": "[encoded data removed]",
      "text/plain": [
       "<Figure size 400x400 with 1 Axes>"
      ]
     },
     "metadata": {
      "needs_background": "light"
     },
     "output_type": "display_data"
    }
   ],
   "source": [
    "plt.figure(figsize=(5,5),dpi=80)\n",
    "sns.boxplot(x=df[\"Likes\"])\n",
    "plt.show()"
   ]
  },
  {
   "cell_type": "code",
   "execution_count": 18,
   "id": "937be7e4",
   "metadata": {
    "id": "937be7e4"
   },
   "outputs": [],
   "source": [
    "df[\"Success/Flop\"] = df[\"Success/Flop\"].map({\"Flop\": 0, \"Success\": 1})"
   ]
  },
  {
   "cell_type": "code",
   "execution_count": 19,
   "id": "471a7479",
   "metadata": {
    "id": "471a7479"
   },
   "outputs": [
    {
     "data": {
      "text/html": [
       "<div>\n",
       "<style scoped>\n",
       "    .dataframe tbody tr th:only-of-type {\n",
       "        vertical-align: middle;\n",
       "    }\n",
       "\n",
       "    .dataframe tbody tr th {\n",
       "        vertical-align: top;\n",
       "    }\n",
       "\n",
       "    .dataframe thead th {\n",
       "        text-align: right;\n",
       "    }\n",
       "</style>\n",
       "<table border=\"1\" class=\"dataframe\">\n",
       "  <thead>\n",
       "    <tr style=\"text-align: right;\">\n",
       "      <th></th>\n",
       "      <th>Metascore</th>\n",
       "      <th>Reviews</th>\n",
       "      <th>Likes</th>\n",
       "      <th>Success/Flop</th>\n",
       "    </tr>\n",
       "  </thead>\n",
       "  <tbody>\n",
       "    <tr>\n",
       "      <th>0</th>\n",
       "      <td>7.349</td>\n",
       "      <td>1719</td>\n",
       "      <td>11393.514</td>\n",
       "      <td>1</td>\n",
       "    </tr>\n",
       "    <tr>\n",
       "      <th>1</th>\n",
       "      <td>7.906</td>\n",
       "      <td>3083</td>\n",
       "      <td>3761.669</td>\n",
       "      <td>1</td>\n",
       "    </tr>\n",
       "    <tr>\n",
       "      <th>2</th>\n",
       "      <td>7.808</td>\n",
       "      <td>4864</td>\n",
       "      <td>3163.738</td>\n",
       "      <td>1</td>\n",
       "    </tr>\n",
       "    <tr>\n",
       "      <th>3</th>\n",
       "      <td>8.700</td>\n",
       "      <td>1455</td>\n",
       "      <td>2616.839</td>\n",
       "      <td>1</td>\n",
       "    </tr>\n",
       "    <tr>\n",
       "      <th>4</th>\n",
       "      <td>7.275</td>\n",
       "      <td>329</td>\n",
       "      <td>2097.734</td>\n",
       "      <td>1</td>\n",
       "    </tr>\n",
       "    <tr>\n",
       "      <th>...</th>\n",
       "      <td>...</td>\n",
       "      <td>...</td>\n",
       "      <td>...</td>\n",
       "      <td>...</td>\n",
       "    </tr>\n",
       "    <tr>\n",
       "      <th>4635</th>\n",
       "      <td>6.262</td>\n",
       "      <td>909</td>\n",
       "      <td>11.689</td>\n",
       "      <td>0</td>\n",
       "    </tr>\n",
       "    <tr>\n",
       "      <th>4636</th>\n",
       "      <td>5.462</td>\n",
       "      <td>78</td>\n",
       "      <td>11.524</td>\n",
       "      <td>0</td>\n",
       "    </tr>\n",
       "    <tr>\n",
       "      <th>4637</th>\n",
       "      <td>7.094</td>\n",
       "      <td>1349</td>\n",
       "      <td>8.696</td>\n",
       "      <td>0</td>\n",
       "    </tr>\n",
       "    <tr>\n",
       "      <th>4638</th>\n",
       "      <td>6.699</td>\n",
       "      <td>472</td>\n",
       "      <td>14.933</td>\n",
       "      <td>0</td>\n",
       "    </tr>\n",
       "    <tr>\n",
       "      <th>4639</th>\n",
       "      <td>6.673</td>\n",
       "      <td>1512</td>\n",
       "      <td>11.941</td>\n",
       "      <td>1</td>\n",
       "    </tr>\n",
       "  </tbody>\n",
       "</table>\n",
       "<p>4636 rows × 4 columns</p>\n",
       "</div>"
      ],
      "text/plain": [
       "      Metascore  Reviews      Likes  Success/Flop\n",
       "0         7.349     1719  11393.514             1\n",
       "1         7.906     3083   3761.669             1\n",
       "2         7.808     4864   3163.738             1\n",
       "3         8.700     1455   2616.839             1\n",
       "4         7.275      329   2097.734             1\n",
       "...         ...      ...        ...           ...\n",
       "4635      6.262      909     11.689             0\n",
       "4636      5.462       78     11.524             0\n",
       "4637      7.094     1349      8.696             0\n",
       "4638      6.699      472     14.933             0\n",
       "4639      6.673     1512     11.941             1\n",
       "\n",
       "[4636 rows x 4 columns]"
      ]
     },
     "execution_count": 19,
     "metadata": {},
     "output_type": "execute_result"
    }
   ],
   "source": [
    "df"
   ]
  },
  {
   "cell_type": "code",
   "execution_count": 20,
   "id": "6569b935",
   "metadata": {},
   "outputs": [],
   "source": [
    "df1 = df.to_csv('updated_movie_data.csv', index=False)"
   ]
  },
  {
   "cell_type": "code",
   "execution_count": 21,
   "id": "e4546dd3",
   "metadata": {},
   "outputs": [
    {
     "data": {
      "text/html": [
       "<div>\n",
       "<style scoped>\n",
       "    .dataframe tbody tr th:only-of-type {\n",
       "        vertical-align: middle;\n",
       "    }\n",
       "\n",
       "    .dataframe tbody tr th {\n",
       "        vertical-align: top;\n",
       "    }\n",
       "\n",
       "    .dataframe thead th {\n",
       "        text-align: right;\n",
       "    }\n",
       "</style>\n",
       "<table border=\"1\" class=\"dataframe\">\n",
       "  <thead>\n",
       "    <tr style=\"text-align: right;\">\n",
       "      <th></th>\n",
       "      <th>Metascore</th>\n",
       "      <th>Reviews</th>\n",
       "      <th>Likes</th>\n",
       "      <th>Success/Flop</th>\n",
       "    </tr>\n",
       "  </thead>\n",
       "  <tbody>\n",
       "    <tr>\n",
       "      <th>0</th>\n",
       "      <td>7.349</td>\n",
       "      <td>1719</td>\n",
       "      <td>11393.514</td>\n",
       "      <td>1</td>\n",
       "    </tr>\n",
       "    <tr>\n",
       "      <th>1</th>\n",
       "      <td>7.906</td>\n",
       "      <td>3083</td>\n",
       "      <td>3761.669</td>\n",
       "      <td>1</td>\n",
       "    </tr>\n",
       "    <tr>\n",
       "      <th>2</th>\n",
       "      <td>7.808</td>\n",
       "      <td>4864</td>\n",
       "      <td>3163.738</td>\n",
       "      <td>1</td>\n",
       "    </tr>\n",
       "    <tr>\n",
       "      <th>3</th>\n",
       "      <td>8.700</td>\n",
       "      <td>1455</td>\n",
       "      <td>2616.839</td>\n",
       "      <td>1</td>\n",
       "    </tr>\n",
       "    <tr>\n",
       "      <th>4</th>\n",
       "      <td>7.275</td>\n",
       "      <td>329</td>\n",
       "      <td>2097.734</td>\n",
       "      <td>1</td>\n",
       "    </tr>\n",
       "    <tr>\n",
       "      <th>...</th>\n",
       "      <td>...</td>\n",
       "      <td>...</td>\n",
       "      <td>...</td>\n",
       "      <td>...</td>\n",
       "    </tr>\n",
       "    <tr>\n",
       "      <th>4635</th>\n",
       "      <td>6.262</td>\n",
       "      <td>909</td>\n",
       "      <td>11.689</td>\n",
       "      <td>0</td>\n",
       "    </tr>\n",
       "    <tr>\n",
       "      <th>4636</th>\n",
       "      <td>5.462</td>\n",
       "      <td>78</td>\n",
       "      <td>11.524</td>\n",
       "      <td>0</td>\n",
       "    </tr>\n",
       "    <tr>\n",
       "      <th>4637</th>\n",
       "      <td>7.094</td>\n",
       "      <td>1349</td>\n",
       "      <td>8.696</td>\n",
       "      <td>0</td>\n",
       "    </tr>\n",
       "    <tr>\n",
       "      <th>4638</th>\n",
       "      <td>6.699</td>\n",
       "      <td>472</td>\n",
       "      <td>14.933</td>\n",
       "      <td>0</td>\n",
       "    </tr>\n",
       "    <tr>\n",
       "      <th>4639</th>\n",
       "      <td>6.673</td>\n",
       "      <td>1512</td>\n",
       "      <td>11.941</td>\n",
       "      <td>1</td>\n",
       "    </tr>\n",
       "  </tbody>\n",
       "</table>\n",
       "<p>4636 rows × 4 columns</p>\n",
       "</div>"
      ],
      "text/plain": [
       "      Metascore  Reviews      Likes  Success/Flop\n",
       "0         7.349     1719  11393.514             1\n",
       "1         7.906     3083   3761.669             1\n",
       "2         7.808     4864   3163.738             1\n",
       "3         8.700     1455   2616.839             1\n",
       "4         7.275      329   2097.734             1\n",
       "...         ...      ...        ...           ...\n",
       "4635      6.262      909     11.689             0\n",
       "4636      5.462       78     11.524             0\n",
       "4637      7.094     1349      8.696             0\n",
       "4638      6.699      472     14.933             0\n",
       "4639      6.673     1512     11.941             1\n",
       "\n",
       "[4636 rows x 4 columns]"
      ]
     },
     "execution_count": 21,
     "metadata": {},
     "output_type": "execute_result"
    }
   ],
   "source": [
    "df"
   ]
  },
  {
   "cell_type": "code",
   "execution_count": 22,
   "id": "6eaaaf59",
   "metadata": {},
   "outputs": [
    {
     "data": {
      "image/png": "[encoded data removed]",
      "text/plain": [
       "<Figure size 576x432 with 2 Axes>"
      ]
     },
     "metadata": {
      "needs_background": "light"
     },
     "output_type": "display_data"
    }
   ],
   "source": [
    "\n",
    "\n",
    "# Assuming you have a pandas DataFrame called 'df' containing the data\n",
    "\n",
    "# Create a subset of the DataFrame with the relevant columns\n",
    "subset = df[['Metascore', 'Reviews', 'Likes', 'Success/Flop']]\n",
    "\n",
    "# Compute the correlation matrix\n",
    "corr_matrix = subset.corr()\n",
    "\n",
    "# Create a correlation heatmap\n",
    "plt.figure(figsize=(8, 6))\n",
    "plt.title('Correlation Matrix')\n",
    "heatmap = plt.imshow(corr_matrix, cmap='coolwarm', vmin=-1, vmax=1)\n",
    "plt.colorbar(heatmap)\n",
    "\n",
    "# Set the tick labels and rotation\n",
    "plt.xticks(range(len(subset.columns)), subset.columns, rotation=45)\n",
    "plt.yticks(range(len(subset.columns)), subset.columns)\n",
    "\n",
    "# Display the correlation values as annotations\n",
    "for i in range(len(subset.columns)):\n",
    "    for j in range(len(subset.columns)):\n",
    "        plt.text(j, i, f'{corr_matrix.iloc[i, j]:.2f}', ha='center', va='center', color='white')\n",
    "\n",
    "plt.show()\n"
   ]
  },
  {
   "cell_type": "code",
   "execution_count": 23,
   "id": "7b6dbbf1",
   "metadata": {
    "id": "7b6dbbf1"
   },
   "outputs": [],
   "source": [
    "x = df.drop([\"Success/Flop\"], axis=1)\n",
    "y = df[\"Success/Flop\"]"
   ]
  },
  {
   "cell_type": "code",
   "execution_count": 24,
   "id": "89bb2a4b",
   "metadata": {},
   "outputs": [
    {
     "data": {
      "text/html": [
       "<div>\n",
       "<style scoped>\n",
       "    .dataframe tbody tr th:only-of-type {\n",
       "        vertical-align: middle;\n",
       "    }\n",
       "\n",
       "    .dataframe tbody tr th {\n",
       "        vertical-align: top;\n",
       "    }\n",
       "\n",
       "    .dataframe thead th {\n",
       "        text-align: right;\n",
       "    }\n",
       "</style>\n",
       "<table border=\"1\" class=\"dataframe\">\n",
       "  <thead>\n",
       "    <tr style=\"text-align: right;\">\n",
       "      <th></th>\n",
       "      <th>Metascore</th>\n",
       "      <th>Reviews</th>\n",
       "      <th>Likes</th>\n",
       "    </tr>\n",
       "  </thead>\n",
       "  <tbody>\n",
       "    <tr>\n",
       "      <th>0</th>\n",
       "      <td>7.349</td>\n",
       "      <td>1719</td>\n",
       "      <td>11393.514</td>\n",
       "    </tr>\n",
       "    <tr>\n",
       "      <th>1</th>\n",
       "      <td>7.906</td>\n",
       "      <td>3083</td>\n",
       "      <td>3761.669</td>\n",
       "    </tr>\n",
       "    <tr>\n",
       "      <th>2</th>\n",
       "      <td>7.808</td>\n",
       "      <td>4864</td>\n",
       "      <td>3163.738</td>\n",
       "    </tr>\n",
       "    <tr>\n",
       "      <th>3</th>\n",
       "      <td>8.700</td>\n",
       "      <td>1455</td>\n",
       "      <td>2616.839</td>\n",
       "    </tr>\n",
       "    <tr>\n",
       "      <th>4</th>\n",
       "      <td>7.275</td>\n",
       "      <td>329</td>\n",
       "      <td>2097.734</td>\n",
       "    </tr>\n",
       "    <tr>\n",
       "      <th>...</th>\n",
       "      <td>...</td>\n",
       "      <td>...</td>\n",
       "      <td>...</td>\n",
       "    </tr>\n",
       "    <tr>\n",
       "      <th>4635</th>\n",
       "      <td>6.262</td>\n",
       "      <td>909</td>\n",
       "      <td>11.689</td>\n",
       "    </tr>\n",
       "    <tr>\n",
       "      <th>4636</th>\n",
       "      <td>5.462</td>\n",
       "      <td>78</td>\n",
       "      <td>11.524</td>\n",
       "    </tr>\n",
       "    <tr>\n",
       "      <th>4637</th>\n",
       "      <td>7.094</td>\n",
       "      <td>1349</td>\n",
       "      <td>8.696</td>\n",
       "    </tr>\n",
       "    <tr>\n",
       "      <th>4638</th>\n",
       "      <td>6.699</td>\n",
       "      <td>472</td>\n",
       "      <td>14.933</td>\n",
       "    </tr>\n",
       "    <tr>\n",
       "      <th>4639</th>\n",
       "      <td>6.673</td>\n",
       "      <td>1512</td>\n",
       "      <td>11.941</td>\n",
       "    </tr>\n",
       "  </tbody>\n",
       "</table>\n",
       "<p>4636 rows × 3 columns</p>\n",
       "</div>"
      ],
      "text/plain": [
       "      Metascore  Reviews      Likes\n",
       "0         7.349     1719  11393.514\n",
       "1         7.906     3083   3761.669\n",
       "2         7.808     4864   3163.738\n",
       "3         8.700     1455   2616.839\n",
       "4         7.275      329   2097.734\n",
       "...         ...      ...        ...\n",
       "4635      6.262      909     11.689\n",
       "4636      5.462       78     11.524\n",
       "4637      7.094     1349      8.696\n",
       "4638      6.699      472     14.933\n",
       "4639      6.673     1512     11.941\n",
       "\n",
       "[4636 rows x 3 columns]"
      ]
     },
     "execution_count": 24,
     "metadata": {},
     "output_type": "execute_result"
    }
   ],
   "source": [
    "x"
   ]
  },
  {
   "cell_type": "code",
   "execution_count": 25,
   "id": "62fde9f4",
   "metadata": {},
   "outputs": [
    {
     "data": {
      "text/plain": [
       "0       1\n",
       "1       1\n",
       "2       1\n",
       "3       1\n",
       "4       1\n",
       "       ..\n",
       "4635    0\n",
       "4636    0\n",
       "4637    0\n",
       "4638    0\n",
       "4639    1\n",
       "Name: Success/Flop, Length: 4636, dtype: int64"
      ]
     },
     "execution_count": 25,
     "metadata": {},
     "output_type": "execute_result"
    }
   ],
   "source": [
    "y"
   ]
  },
  {
   "cell_type": "code",
   "execution_count": null,
   "id": "79e3acf0",
   "metadata": {},
   "outputs": [],
   "source": []
  },
  {
   "cell_type": "code",
   "execution_count": 26,
   "id": "440b8111",
   "metadata": {},
   "outputs": [],
   "source": [
    "from sklearn.model_selection import train_test_split"
   ]
  },
  {
   "cell_type": "code",
   "execution_count": 27,
   "id": "8ab777c4",
   "metadata": {},
   "outputs": [],
   "source": [
    "train_x,test_x,train_y,test_y=train_test_split(x,y,test_size=0.3,random_state=0)\n"
   ]
  },
  {
   "cell_type": "code",
   "execution_count": 28,
   "id": "683ca5ea",
   "metadata": {},
   "outputs": [],
   "source": [
    "\n",
    "# Assuming you have your test feature data in the variable 'test_x' and test target data in the variable 'test_y'\n",
    "\n",
    "# Create a DataFrame to hold the test data\n",
    "test_data = pd.DataFrame(data=test_x, columns=['Metascore', 'Reviews', 'Likes'])\n",
    "test_data['Success/Flop'] = test_y  # Add the target column to the DataFrame\n",
    "\n",
    "# Store the test data in a CSV file\n",
    "test_data.to_csv('test_data.csv', index=False)\n"
   ]
  },
  {
   "cell_type": "code",
   "execution_count": 29,
   "id": "25236972",
   "metadata": {},
   "outputs": [],
   "source": [
    "from sklearn.ensemble import RandomForestClassifier"
   ]
  },
  {
   "cell_type": "code",
   "execution_count": 30,
   "id": "cd0a06cd",
   "metadata": {},
   "outputs": [],
   "source": [
    "model=RandomForestClassifier()"
   ]
  },
  {
   "cell_type": "code",
   "execution_count": 31,
   "id": "e7fbe00f",
   "metadata": {},
   "outputs": [
    {
     "data": {
      "text/plain": [
       "RandomForestClassifier()"
      ]
     },
     "execution_count": 31,
     "metadata": {},
     "output_type": "execute_result"
    }
   ],
   "source": [
    "model.fit(train_x,train_y)"
   ]
  },
  {
   "cell_type": "code",
   "execution_count": 32,
   "id": "bc819dc0",
   "metadata": {},
   "outputs": [
    {
     "data": {
      "text/plain": [
       "0.7828900071890726"
      ]
     },
     "execution_count": 32,
     "metadata": {},
     "output_type": "execute_result"
    }
   ],
   "source": [
    "model.score(test_x,test_y)"
   ]
  },
  {
   "cell_type": "code",
   "execution_count": 33,
   "id": "b68f3c2c",
   "metadata": {},
   "outputs": [],
   "source": [
    "y_prediction=model.predict(test_x)"
   ]
  },
  {
   "cell_type": "code",
   "execution_count": 34,
   "id": "723a1e94",
   "metadata": {},
   "outputs": [],
   "source": [
    "from sklearn.metrics import accuracy_score"
   ]
  },
  {
   "cell_type": "code",
   "execution_count": 35,
   "id": "11056594",
   "metadata": {},
   "outputs": [
    {
     "data": {
      "text/plain": [
       "0.7828900071890726"
      ]
     },
     "execution_count": 35,
     "metadata": {},
     "output_type": "execute_result"
    }
   ],
   "source": [
    "accuracy_score(test_y,y_prediction)"
   ]
  },
  {
   "cell_type": "code",
   "execution_count": 36,
   "id": "184bf186",
   "metadata": {},
   "outputs": [],
   "source": [
    "from sklearn.model_selection import RandomizedSearchCV"
   ]
  },
  {
   "cell_type": "code",
   "execution_count": 37,
   "id": "071f82b4",
   "metadata": {},
   "outputs": [],
   "source": [
    "from sklearn.model_selection import RandomizedSearchCV\n",
    "# Number of trees in random forest\n",
    "n_estimators = [int(x) for x in np.linspace(start = 100, stop = 1200, num = 12)]\n",
    "# Number of features to consider at every split\n",
    "max_features = ['auto', 'sqrt']\n",
    "# Maximum number of levels in tree\n",
    "max_depth = [int(x) for x in np.linspace(5, 30, num = 6)]\n",
    "# Minimum number of samples required to split a node\n",
    "min_samples_split = [2, 5, 10, 15, 100]\n",
    "# Minimum number of samples required at each leaf node\n",
    "min_samples_leaf = [1, 2, 5, 10]"
   ]
  },
  {
   "cell_type": "code",
   "execution_count": 38,
   "id": "2ef213e0",
   "metadata": {},
   "outputs": [],
   "source": [
    "from sklearn.model_selection import RandomizedSearchCV\n",
    "# Number of trees in random forest\n",
    "n_estimators = [int(x) for x in np.linspace(start = 100, stop = 1200, num = 12)]\n",
    "# Number of features to consider at every split\n",
    "max_features = ['auto', 'sqrt']\n",
    "# Maximum number of levels in tree\n",
    "max_depth = [int(x) for x in np.linspace(5, 30, num = 6)]\n",
    "# Minimum number of samples required to split a node\n",
    "min_samples_split = [2, 5, 10, 15, 100]\n",
    "# Minimum number of samples required at each leaf node\n",
    "min_samples_leaf = [1, 2, 5, 10]"
   ]
  },
  {
   "cell_type": "code",
   "execution_count": 39,
   "id": "354b7bf3",
   "metadata": {},
   "outputs": [],
   "source": [
    "random_grid = {'n_estimators': n_estimators,\n",
    "               'max_features': max_features,\n",
    "               'max_depth': max_depth,\n",
    "               'min_samples_split': min_samples_split,\n",
    "               'min_samples_leaf': min_samples_leaf}"
   ]
  },
  {
   "cell_type": "code",
   "execution_count": 40,
   "id": "4d6f7f32",
   "metadata": {},
   "outputs": [],
   "source": [
    "rf_random = RandomizedSearchCV(estimator = model, param_distributions = random_grid,scoring='neg_mean_squared_error', n_iter = 10, cv = 3, verbose=2, random_state=40, n_jobs=1)"
   ]
  },
  {
   "cell_type": "code",
   "execution_count": 41,
   "id": "431bccaf",
   "metadata": {},
   "outputs": [
    {
     "name": "stdout",
     "output_type": "stream",
     "text": [
      "Fitting 3 folds for each of 10 candidates, totalling 30 fits\n",
      "[CV] END max_depth=25, max_features=sqrt, min_samples_leaf=2, min_samples_split=15, n_estimators=1200; total time=   4.2s\n",
      "[CV] END max_depth=25, max_features=sqrt, min_samples_leaf=2, min_samples_split=15, n_estimators=1200; total time=   4.9s\n",
      "[CV] END max_depth=25, max_features=sqrt, min_samples_leaf=2, min_samples_split=15, n_estimators=1200; total time=   4.6s\n",
      "[CV] END max_depth=25, max_features=auto, min_samples_leaf=5, min_samples_split=5, n_estimators=400; total time=   1.2s\n",
      "[CV] END max_depth=25, max_features=auto, min_samples_leaf=5, min_samples_split=5, n_estimators=400; total time=   1.3s\n",
      "[CV] END max_depth=25, max_features=auto, min_samples_leaf=5, min_samples_split=5, n_estimators=400; total time=   1.3s\n",
      "[CV] END max_depth=25, max_features=sqrt, min_samples_leaf=1, min_samples_split=100, n_estimators=600; total time=   1.6s\n",
      "[CV] END max_depth=25, max_features=sqrt, min_samples_leaf=1, min_samples_split=100, n_estimators=600; total time=   1.6s\n",
      "[CV] END max_depth=25, max_features=sqrt, min_samples_leaf=1, min_samples_split=100, n_estimators=600; total time=   1.7s\n",
      "[CV] END max_depth=15, max_features=sqrt, min_samples_leaf=5, min_samples_split=2, n_estimators=1100; total time=   3.9s\n",
      "[CV] END max_depth=15, max_features=sqrt, min_samples_leaf=5, min_samples_split=2, n_estimators=1100; total time=   3.7s\n",
      "[CV] END max_depth=15, max_features=sqrt, min_samples_leaf=5, min_samples_split=2, n_estimators=1100; total time=   3.6s\n",
      "[CV] END max_depth=20, max_features=sqrt, min_samples_leaf=10, min_samples_split=2, n_estimators=400; total time=   1.1s\n",
      "[CV] END max_depth=20, max_features=sqrt, min_samples_leaf=10, min_samples_split=2, n_estimators=400; total time=   1.1s\n",
      "[CV] END max_depth=20, max_features=sqrt, min_samples_leaf=10, min_samples_split=2, n_estimators=400; total time=   1.3s\n",
      "[CV] END max_depth=10, max_features=auto, min_samples_leaf=5, min_samples_split=10, n_estimators=300; total time=   1.0s\n",
      "[CV] END max_depth=10, max_features=auto, min_samples_leaf=5, min_samples_split=10, n_estimators=300; total time=   0.8s\n",
      "[CV] END max_depth=10, max_features=auto, min_samples_leaf=5, min_samples_split=10, n_estimators=300; total time=   0.8s\n",
      "[CV] END max_depth=25, max_features=auto, min_samples_leaf=10, min_samples_split=2, n_estimators=400; total time=   1.5s\n",
      "[CV] END max_depth=25, max_features=auto, min_samples_leaf=10, min_samples_split=2, n_estimators=400; total time=   1.3s\n",
      "[CV] END max_depth=25, max_features=auto, min_samples_leaf=10, min_samples_split=2, n_estimators=400; total time=   1.1s\n",
      "[CV] END max_depth=5, max_features=sqrt, min_samples_leaf=10, min_samples_split=5, n_estimators=1200; total time=   3.0s\n",
      "[CV] END max_depth=5, max_features=sqrt, min_samples_leaf=10, min_samples_split=5, n_estimators=1200; total time=   3.1s\n",
      "[CV] END max_depth=5, max_features=sqrt, min_samples_leaf=10, min_samples_split=5, n_estimators=1200; total time=   3.0s\n",
      "[CV] END max_depth=25, max_features=auto, min_samples_leaf=10, min_samples_split=5, n_estimators=1000; total time=   2.9s\n",
      "[CV] END max_depth=25, max_features=auto, min_samples_leaf=10, min_samples_split=5, n_estimators=1000; total time=   3.6s\n",
      "[CV] END max_depth=25, max_features=auto, min_samples_leaf=10, min_samples_split=5, n_estimators=1000; total time=   3.0s\n",
      "[CV] END max_depth=20, max_features=sqrt, min_samples_leaf=1, min_samples_split=15, n_estimators=200; total time=   0.6s\n",
      "[CV] END max_depth=20, max_features=sqrt, min_samples_leaf=1, min_samples_split=15, n_estimators=200; total time=   0.6s\n",
      "[CV] END max_depth=20, max_features=sqrt, min_samples_leaf=1, min_samples_split=15, n_estimators=200; total time=   0.6s\n"
     ]
    },
    {
     "data": {
      "text/plain": [
       "RandomizedSearchCV(cv=3, estimator=RandomForestClassifier(), n_jobs=1,\n",
       "                   param_distributions={'max_depth': [5, 10, 15, 20, 25, 30],\n",
       "                                        'max_features': ['auto', 'sqrt'],\n",
       "                                        'min_samples_leaf': [1, 2, 5, 10],\n",
       "                                        'min_samples_split': [2, 5, 10, 15,\n",
       "                                                              100],\n",
       "                                        'n_estimators': [100, 200, 300, 400,\n",
       "                                                         500, 600, 700, 800,\n",
       "                                                         900, 1000, 1100,\n",
       "                                                         1200]},\n",
       "                   random_state=40, scoring='neg_mean_squared_error',\n",
       "                   verbose=2)"
      ]
     },
     "execution_count": 41,
     "metadata": {},
     "output_type": "execute_result"
    }
   ],
   "source": [
    "rf_random.fit(train_x,train_y)"
   ]
  },
  {
   "cell_type": "code",
   "execution_count": 42,
   "id": "908ac78c",
   "metadata": {},
   "outputs": [
    {
     "data": {
      "text/plain": [
       "RandomForestClassifier(max_depth=5, max_features='sqrt', min_samples_leaf=10,\n",
       "                       min_samples_split=5, n_estimators=1200)"
      ]
     },
     "execution_count": 42,
     "metadata": {},
     "output_type": "execute_result"
    }
   ],
   "source": [
    "rf_random.best_estimator_"
   ]
  },
  {
   "cell_type": "code",
   "execution_count": 43,
   "id": "64350fa2",
   "metadata": {},
   "outputs": [],
   "source": [
    "y1=rf_random.predict(test_x)"
   ]
  },
  {
   "cell_type": "code",
   "execution_count": 44,
   "id": "76d0fcc9",
   "metadata": {},
   "outputs": [
    {
     "data": {
      "text/plain": [
       "0.7958303378864127"
      ]
     },
     "execution_count": 44,
     "metadata": {},
     "output_type": "execute_result"
    }
   ],
   "source": [
    "accuracy_score(test_y,y1)"
   ]
  },
  {
   "cell_type": "code",
   "execution_count": 45,
   "id": "a0e1de09",
   "metadata": {},
   "outputs": [],
   "source": [
    "import pickle"
   ]
  },
  {
   "cell_type": "code",
   "execution_count": 46,
   "id": "4eef0f84",
   "metadata": {},
   "outputs": [],
   "source": [
    "with open('C:/Users/anujs/CODEBASE/server/model/rfa.pckl', 'wb') as rfa_file:\n",
    "    pickle.dump(model, rfa_file)\n",
    "    rfa_file.close()"
   ]
  },
  {
   "cell_type": "code",
   "execution_count": 47,
   "id": "ee4ba658",
   "metadata": {},
   "outputs": [],
   "source": [
    "with open('C:/Users/anujs/CODEBASE/server/model/rfa.pckl','rb') as rfa_file:\n",
    "    model=pickle.load(rfa_file)"
   ]
  },
  {
   "cell_type": "code",
   "execution_count": 48,
   "id": "eb3f915c",
   "metadata": {},
   "outputs": [
    {
     "name": "stdout",
     "output_type": "stream",
     "text": [
      "Accuracy: 0.7958303378864127\n"
     ]
    }
   ],
   "source": [
    "y_pred = model.predict(test_x)\n",
    "accuracy = accuracy_score(test_y, y1)\n",
    "print(\"Accuracy:\", accuracy)"
   ]
  },
  {
   "cell_type": "code",
   "execution_count": null,
   "id": "7392fd7e",
   "metadata": {},
   "outputs": [],
   "source": []
  },
  {
   "cell_type": "code",
   "execution_count": 49,
   "id": "3162998b",
   "metadata": {},
   "outputs": [],
   "source": [
    "import pickle\n",
    "\n",
    "# Assuming your trained model is saved in a file named 'model.pkl'\n",
    "with open('model/rfa.pckl', 'rb') as file:\n",
    "    model1 = pickle.load(file)\n"
   ]
  },
  {
   "cell_type": "code",
   "execution_count": 52,
   "id": "340acbee",
   "metadata": {},
   "outputs": [
    {
     "name": "stdout",
     "output_type": "stream",
     "text": [
      "Enter the Metascore: 7\n",
      "Enter the Reviews: 100\n",
      "Enter the Likes: 100\n",
      "Prediction: 0\n"
     ]
    }
   ],
   "source": [
    "\n",
    "# Get input from the user\n",
    "metascore = float(input(\"Enter the Metascore: \"))\n",
    "reviews = float(input(\"Enter the Reviews: \"))\n",
    "likes = float(input(\"Enter the Likes: \"))\n",
    "\n",
    "# Create a DataFrame with the user input\n",
    "input_data = pd.DataFrame({'Metascore': [metascore], 'Reviews': [reviews], 'Likes': [likes]})\n",
    "\n",
    "# Make predictions using the loaded model\n",
    "predictions = model1.predict(input_data)\n",
    "\n",
    "# Print the predicted value\n",
    "print(\"Prediction:\", predictions[0])\n",
    "\n"
   ]
  },
  {
   "cell_type": "code",
   "execution_count": 51,
   "id": "bf9e2f9d",
   "metadata": {},
   "outputs": [],
   "source": [
    "test_features = test_data[['Metascore', 'Reviews', 'Likes']]  # Extract the test features from the DataFrame\n"
   ]
  },
  {
   "cell_type": "code",
   "execution_count": null,
   "id": "25c2e9c9",
   "metadata": {},
   "outputs": [],
   "source": []
  }
 ],
 "metadata": {
  "colab": {
   "provenance": []
  },
  "kernelspec": {
   "display_name": "Python 3 (ipykernel)",
   "language": "python",
   "name": "python3"
  },
  "language_info": {
   "codemirror_mode": {
    "name": "ipython",
    "version": 3
   },
   "file_extension": ".py",
   "mimetype": "text/x-python",
   "name": "python",
   "nbconvert_exporter": "python",
   "pygments_lexer": "ipython3",
   "version": "3.9.12"
  }
 },
 "nbformat": 4,
 "nbformat_minor": 5
}
